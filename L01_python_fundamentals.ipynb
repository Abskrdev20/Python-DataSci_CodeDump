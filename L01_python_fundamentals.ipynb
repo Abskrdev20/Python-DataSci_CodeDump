{
  "nbformat": 4,
  "nbformat_minor": 0,
  "metadata": {
    "colab": {
      "provenance": [],
      "authorship_tag": "ABX9TyOdWBVg1ipyndEwVTgCYGEo",
      "include_colab_link": true
    },
    "kernelspec": {
      "name": "python3",
      "display_name": "Python 3"
    },
    "language_info": {
      "name": "python"
    }
  },
  "cells": [
    {
      "cell_type": "markdown",
      "metadata": {
        "id": "view-in-github",
        "colab_type": "text"
      },
      "source": [
        "<a href=\"https://colab.research.google.com/github/Abskrdev20/Python-DataSci_CodeDump/blob/main/L01_python_fundamentals.ipynb\" target=\"_parent\"><img src=\"https://colab.research.google.com/assets/colab-badge.svg\" alt=\"Open In Colab\"/></a>"
      ]
    },
    {
      "cell_type": "markdown",
      "source": [
        "# **Python Fundamentals**\n",
        "- Python is created before java\n",
        "- *Design philosphy* : easy to learn\n",
        "- *Batteried Included* : built-in methods\n",
        "- *Quote* : donot reinvent the wheel\n",
        "- *General Purpose* : learn and code\n",
        "- *Libraries included* : pandas , numpy , matplotlib , tensorflow , tkinter\n",
        "- *Community* : keras\n",
        "---\n",
        "## discussions\n",
        "1. slow python : nd array in numpy created in c but used in py to make fast operations\n",
        "2. R lang : used in research work phd's"
      ],
      "metadata": {
        "id": "r7WECOzFFHfU"
      }
    },
    {
      "cell_type": "markdown",
      "source": [
        "## OUTPUT IN PYTHON"
      ],
      "metadata": {
        "id": "au5kNaaiLgg_"
      }
    },
    {
      "cell_type": "code",
      "source": [
        "# First Program\n",
        "# python is a case-sensitive language\n",
        "\n",
        "print(\"Hello World\")"
      ],
      "metadata": {
        "colab": {
          "base_uri": "https://localhost:8080/"
        },
        "id": "WfI9QpR1IfBw",
        "outputId": "dde86206-c7cb-4958-9380-5deccc31974b"
      },
      "execution_count": null,
      "outputs": [
        {
          "output_type": "stream",
          "name": "stdout",
          "text": [
            "Hello World\n"
          ]
        }
      ]
    },
    {
      "cell_type": "code",
      "source": [
        "print(\"Abhishek Kumar\")\n",
        "print(34)\n",
        "print(34.5)\n",
        "print(True)"
      ],
      "metadata": {
        "colab": {
          "base_uri": "https://localhost:8080/"
        },
        "id": "9x2Njn5cKH0Y",
        "outputId": "247f0bf8-ac8b-4f4e-b5f2-5f8e2f049fb3"
      },
      "execution_count": null,
      "outputs": [
        {
          "output_type": "stream",
          "name": "stdout",
          "text": [
            "Abhishek Kumar\n",
            "34\n",
            "34.5\n",
            "True\n"
          ]
        }
      ]
    },
    {
      "cell_type": "code",
      "source": [
        "print(\"Hello\",3,53.5,True)"
      ],
      "metadata": {
        "colab": {
          "base_uri": "https://localhost:8080/"
        },
        "id": "6vwSiLSaKUC5",
        "outputId": "68b972f8-6872-4844-c932-a5ae1b8af39e"
      },
      "execution_count": null,
      "outputs": [
        {
          "output_type": "stream",
          "name": "stdout",
          "text": [
            "Hello 3 53.5 True\n"
          ]
        }
      ]
    },
    {
      "cell_type": "code",
      "source": [
        "print(\"Hello\",3.5,34,True,sep=\"/\")"
      ],
      "metadata": {
        "colab": {
          "base_uri": "https://localhost:8080/"
        },
        "id": "VskFMlScKyCc",
        "outputId": "0500014f-548a-452c-9ecd-0ace36c430c2"
      },
      "execution_count": null,
      "outputs": [
        {
          "output_type": "stream",
          "name": "stdout",
          "text": [
            "Hello/3.5/34/True\n"
          ]
        }
      ]
    },
    {
      "cell_type": "code",
      "source": [
        "print('hello',end ='-')\n",
        "print('coders')"
      ],
      "metadata": {
        "colab": {
          "base_uri": "https://localhost:8080/"
        },
        "id": "n1h5JOv4LSgj",
        "outputId": "b8bd74e6-57d6-4321-e80f-2f878d9df4d6"
      },
      "execution_count": null,
      "outputs": [
        {
          "output_type": "stream",
          "name": "stdout",
          "text": [
            "hello-coders\n"
          ]
        }
      ]
    },
    {
      "cell_type": "markdown",
      "source": [
        "## DATATYPES IN PYTHON"
      ],
      "metadata": {
        "id": "TekobrR7LqeJ"
      }
    },
    {
      "cell_type": "code",
      "source": [
        "# Intergers\n",
        "print(45)\n",
        "# 1*10^308\n",
        "print(1e308)"
      ],
      "metadata": {
        "colab": {
          "base_uri": "https://localhost:8080/"
        },
        "id": "gmU_0pPBLvSf",
        "outputId": "999e0d63-65ba-4d09-9558-33f83be25194"
      },
      "execution_count": null,
      "outputs": [
        {
          "output_type": "stream",
          "name": "stdout",
          "text": [
            "45\n",
            "1e+308\n"
          ]
        }
      ]
    },
    {
      "cell_type": "code",
      "source": [
        "#Decimal/float\n",
        "print(5.6)\n",
        "print(1e309)"
      ],
      "metadata": {
        "colab": {
          "base_uri": "https://localhost:8080/"
        },
        "id": "jGygjrX3MEOF",
        "outputId": "5daebf1a-67ac-49d5-f3c0-55733e9dc81f"
      },
      "execution_count": null,
      "outputs": [
        {
          "output_type": "stream",
          "name": "stdout",
          "text": [
            "5.6\n",
            "inf\n"
          ]
        }
      ]
    },
    {
      "cell_type": "code",
      "source": [
        "# Boolean\n",
        "print(True)\n",
        "print(False)"
      ],
      "metadata": {
        "colab": {
          "base_uri": "https://localhost:8080/"
        },
        "id": "U6FYuej0MRGQ",
        "outputId": "5a235843-616c-4446-a5b3-a3925fa17d5b"
      },
      "execution_count": null,
      "outputs": [
        {
          "output_type": "stream",
          "name": "stdout",
          "text": [
            "True\n",
            "False\n"
          ]
        }
      ]
    },
    {
      "cell_type": "code",
      "source": [
        "# Text/string\n",
        "print(\"Hello World\")"
      ],
      "metadata": {
        "colab": {
          "base_uri": "https://localhost:8080/"
        },
        "id": "EWuJcrgsMX1X",
        "outputId": "175fdbd0-2759-46eb-bf33-f1fe4f03af1e"
      },
      "execution_count": null,
      "outputs": [
        {
          "output_type": "stream",
          "name": "stdout",
          "text": [
            "Hello World\n"
          ]
        }
      ]
    },
    {
      "cell_type": "code",
      "source": [
        "# Complex nos\n",
        "print(5+6j)"
      ],
      "metadata": {
        "colab": {
          "base_uri": "https://localhost:8080/"
        },
        "id": "VPJldfrDMdCq",
        "outputId": "6b7f3447-718c-4295-8bed-d5fc490cae0e"
      },
      "execution_count": null,
      "outputs": [
        {
          "output_type": "stream",
          "name": "stdout",
          "text": [
            "(5+6j)\n"
          ]
        }
      ]
    },
    {
      "cell_type": "code",
      "source": [
        "# List\n",
        "print([3,5,3,3,32])"
      ],
      "metadata": {
        "colab": {
          "base_uri": "https://localhost:8080/"
        },
        "id": "TjTPdz48MhdP",
        "outputId": "b4c16804-0af0-45ee-aff9-2b0109703a79"
      },
      "execution_count": null,
      "outputs": [
        {
          "output_type": "stream",
          "name": "stdout",
          "text": [
            "[3, 5, 3, 3, 32]\n"
          ]
        }
      ]
    },
    {
      "cell_type": "code",
      "source": [
        "# Tuple\n",
        "print((2,4,6,43,46,75))"
      ],
      "metadata": {
        "colab": {
          "base_uri": "https://localhost:8080/"
        },
        "id": "pk27zq9oMo2P",
        "outputId": "c8dda8ff-d0ba-43b3-ca76-e5bb8c1ab47f"
      },
      "execution_count": null,
      "outputs": [
        {
          "output_type": "stream",
          "name": "stdout",
          "text": [
            "(2, 4, 6, 43, 46, 75)\n"
          ]
        }
      ]
    },
    {
      "cell_type": "code",
      "source": [
        "# Sets\n",
        "print({2,4,6,43,46,75})"
      ],
      "metadata": {
        "colab": {
          "base_uri": "https://localhost:8080/"
        },
        "id": "JhTibZ0hMwaK",
        "outputId": "199b623f-0fad-4c24-a961-780bd69bf1a8"
      },
      "execution_count": null,
      "outputs": [
        {
          "output_type": "stream",
          "name": "stdout",
          "text": [
            "{2, 4, 6, 43, 75, 46}\n"
          ]
        }
      ]
    },
    {
      "cell_type": "code",
      "source": [
        "# Dictionary\n",
        "print({\"Name\":\"Abhishek\",\"gender\":\"male\",\"Age\":20})"
      ],
      "metadata": {
        "colab": {
          "base_uri": "https://localhost:8080/"
        },
        "id": "xcmXnH2vM2Ka",
        "outputId": "265749e9-d9a0-42b6-a489-c8e9cafaff26"
      },
      "execution_count": null,
      "outputs": [
        {
          "output_type": "stream",
          "name": "stdout",
          "text": [
            "{'Name': 'Abhishek', 'gender': 'male', 'Age': 20}\n"
          ]
        }
      ]
    },
    {
      "cell_type": "code",
      "source": [
        "# type\n",
        "type(3)\n",
        "# type(3.5)\n",
        "# type(\"Hello\")\n",
        "# type(True)"
      ],
      "metadata": {
        "colab": {
          "base_uri": "https://localhost:8080/"
        },
        "id": "CnFzczAzNvUV",
        "outputId": "7a5249a2-e813-48ae-eea0-4009574ecce0"
      },
      "execution_count": null,
      "outputs": [
        {
          "output_type": "execute_result",
          "data": {
            "text/plain": [
              "int"
            ]
          },
          "metadata": {},
          "execution_count": 46
        }
      ]
    },
    {
      "cell_type": "code",
      "source": [
        "# data structure / data type almost same\n",
        "# no long dt\n",
        "# complex no limit\n",
        "# python is a interpreted language line by line"
      ],
      "metadata": {
        "id": "YtvQFuSXM8TJ"
      },
      "execution_count": null,
      "outputs": []
    },
    {
      "cell_type": "markdown",
      "source": [
        "## Variables in Python"
      ],
      "metadata": {
        "id": "RFY6FIraODkd"
      }
    },
    {
      "cell_type": "code",
      "source": [
        "# variables : containers to hold the dt\n",
        "#\n",
        "name = \"Abhishek\"\n",
        "print(name)\n",
        "\n",
        "a=10\n",
        "b=34\n",
        "print(a+b)"
      ],
      "metadata": {
        "colab": {
          "base_uri": "https://localhost:8080/"
        },
        "id": "2DWb5jtwOIX0",
        "outputId": "77bf3621-d57c-498a-9730-1b0932869c49"
      },
      "execution_count": null,
      "outputs": [
        {
          "output_type": "stream",
          "name": "stdout",
          "text": [
            "Abhishek\n",
            "44\n"
          ]
        }
      ]
    },
    {
      "cell_type": "code",
      "source": [
        "# DYNAMIC VS STATIC TYPING\n",
        "# Dynamic Typing :  no need of predeclaration and initialisation\n",
        "a=5\n",
        "print(type(a))\n",
        "\n",
        "# Static Typing : intialased and dt declared first\n",
        "# string name = \"rohan\";\n",
        "# int b;"
      ],
      "metadata": {
        "colab": {
          "base_uri": "https://localhost:8080/"
        },
        "id": "5rXNCwOoO12I",
        "outputId": "6573972c-12c5-4456-d24a-d5f96539b1c2"
      },
      "execution_count": null,
      "outputs": [
        {
          "output_type": "stream",
          "name": "stdout",
          "text": [
            "<class 'int'>\n"
          ]
        }
      ]
    },
    {
      "cell_type": "code",
      "source": [
        "# DYAMIC VS STATIC BINDING\n",
        "# Dynamic Binding : can redeclare the variable\n",
        "a=34\n",
        "print(a)\n",
        "a=\"arunachal\"\n",
        "print(a)\n",
        "\n",
        "# static binding : store only a single dt\n",
        "# int num = 34\n",
        "# num =\"ritik\" #Gives an err"
      ],
      "metadata": {
        "colab": {
          "base_uri": "https://localhost:8080/"
        },
        "id": "Rf8s1Bc4PR_I",
        "outputId": "f2c53f68-523c-4f49-928b-cd44aec8c701"
      },
      "execution_count": null,
      "outputs": [
        {
          "output_type": "stream",
          "name": "stdout",
          "text": [
            "34\n",
            "arunachal\n"
          ]
        }
      ]
    },
    {
      "cell_type": "code",
      "source": [
        "# Stylish declaration techniques\n",
        "a,b,c = 3,5,6\n",
        "print(a,b,c)"
      ],
      "metadata": {
        "colab": {
          "base_uri": "https://localhost:8080/"
        },
        "id": "-3mI6YJyQJMx",
        "outputId": "8db5d45b-8a25-4524-f483-3b8849b697e5"
      },
      "execution_count": null,
      "outputs": [
        {
          "output_type": "stream",
          "name": "stdout",
          "text": [
            "3 5 6\n"
          ]
        }
      ]
    },
    {
      "cell_type": "code",
      "source": [
        "a=b=c= 34\n",
        "print(a,b,c)"
      ],
      "metadata": {
        "colab": {
          "base_uri": "https://localhost:8080/"
        },
        "id": "G8ymxcgMQTsM",
        "outputId": "023c0c36-7148-400f-a694-582751765765"
      },
      "execution_count": null,
      "outputs": [
        {
          "output_type": "stream",
          "name": "stdout",
          "text": [
            "34 34 34\n"
          ]
        }
      ]
    },
    {
      "cell_type": "markdown",
      "source": [
        "* SNIPPETS : small code segment\n",
        "* Memory allocation in python\n",
        "* how static typing can be achieved in python\n",
        "* differnce bw local and global var\n",
        "* indentation"
      ],
      "metadata": {
        "id": "jjlVUIgVQ4XC"
      }
    },
    {
      "cell_type": "markdown",
      "source": [
        "## Comments in Python"
      ],
      "metadata": {
        "id": "-CYsnI86RqKr"
      }
    },
    {
      "cell_type": "code",
      "source": [
        "# this is a comment : this is ignored by interpretor"
      ],
      "metadata": {
        "id": "L0SupRfkRybz"
      },
      "execution_count": null,
      "outputs": []
    },
    {
      "cell_type": "markdown",
      "source": [
        "## Keywords and Identifiers"
      ],
      "metadata": {
        "id": "3kKvRRQtSXm4"
      }
    },
    {
      "cell_type": "code",
      "source": [
        "# Keywords : 32 keywords are reserved cann't be used as var_name\n",
        "# interpreter uses this words to convert High level code to machine code\n",
        "print(print)"
      ],
      "metadata": {
        "colab": {
          "base_uri": "https://localhost:8080/"
        },
        "id": "yHeXarEGSefj",
        "outputId": "d5bb2691-a4f4-4185-a6f6-2589ba850f78"
      },
      "execution_count": null,
      "outputs": [
        {
          "output_type": "stream",
          "name": "stdout",
          "text": [
            "<built-in function print>\n"
          ]
        }
      ]
    },
    {
      "cell_type": "markdown",
      "source": [
        "- create new dt using oop"
      ],
      "metadata": {
        "id": "VktHkwjuTyJQ"
      }
    },
    {
      "cell_type": "code",
      "source": [
        "# Identifier : any name in language either of a class , package , var_name\n",
        "# Rule 1 : cann't start with a digit\n",
        "a=34; print(a)\n",
        "# 2nos = 34 #gives an error : invalid decimal literal"
      ],
      "metadata": {
        "colab": {
          "base_uri": "https://localhost:8080/"
        },
        "id": "MsMckENmT-dR",
        "outputId": "ebc6b1a5-580c-4ac7-c3ef-91da2f1c0b5a"
      },
      "execution_count": null,
      "outputs": [
        {
          "output_type": "stream",
          "name": "stdout",
          "text": [
            "34\n"
          ]
        }
      ]
    },
    {
      "cell_type": "code",
      "source": [
        "# Rule 2 : you can use only _ as special characters\n",
        "first_name = \"raghav\"\n",
        "print(first_name)\n",
        "# first%name = \"ritu\" # error cann't be assigned"
      ],
      "metadata": {
        "colab": {
          "base_uri": "https://localhost:8080/"
        },
        "id": "7gqEeWE-UlXD",
        "outputId": "590ecc75-1bf4-4164-8c7d-72bab19b7253"
      },
      "execution_count": null,
      "outputs": [
        {
          "output_type": "stream",
          "name": "stdout",
          "text": [
            "raghav\n"
          ]
        }
      ]
    },
    {
      "cell_type": "code",
      "source": [
        "# Rule 3 : Identifiers can be a keyword like  print , if , while"
      ],
      "metadata": {
        "id": "mAtdnGJiVHJi"
      },
      "execution_count": null,
      "outputs": []
    },
    {
      "cell_type": "markdown",
      "source": [
        "## User Input"
      ],
      "metadata": {
        "id": "aOittSu-VQc6"
      }
    },
    {
      "cell_type": "code",
      "source": [
        "input('Enter your name :')\n",
        "input('Enter your email id')\n",
        "input('What is your age :')"
      ],
      "metadata": {
        "colab": {
          "base_uri": "https://localhost:8080/",
          "height": 87
        },
        "id": "WgNGi1yJVVLP",
        "outputId": "dd6d0b36-67eb-450c-9868-0b1fbeda5d09"
      },
      "execution_count": null,
      "outputs": [
        {
          "name": "stdout",
          "output_type": "stream",
          "text": [
            "Enter your name :Abhishek kumar\n",
            "Enter your email idak@gmail.com\n",
            "What is your age :34\n"
          ]
        },
        {
          "output_type": "execute_result",
          "data": {
            "text/plain": [
              "'34'"
            ],
            "application/vnd.google.colaboratory.intrinsic+json": {
              "type": "string"
            }
          },
          "metadata": {},
          "execution_count": 67
        }
      ]
    },
    {
      "cell_type": "code",
      "source": [
        "# Create the Employee Details form and display the info gathered\n",
        "name = input('enter the emp name :')\n",
        "age = input('enter the emp age :')\n",
        "salary = input('enter the emp salary :')\n",
        "print(name,age,salary)"
      ],
      "metadata": {
        "colab": {
          "base_uri": "https://localhost:8080/"
        },
        "id": "bE3aW_k7Vw4h",
        "outputId": "c1b62225-8918-428f-f524-4e569cf1fe06"
      },
      "execution_count": null,
      "outputs": [
        {
          "output_type": "stream",
          "name": "stdout",
          "text": [
            "enter the emp name :adarsh kumar\n",
            "enter the emp age :23\n",
            "enter the emp salary :643543\n",
            "adarsh kumar 23 643543\n"
          ]
        }
      ]
    },
    {
      "cell_type": "markdown",
      "source": [
        "## TYPE CONVERSION"
      ],
      "metadata": {
        "id": "fDWw0xkFXRsW"
      }
    },
    {
      "cell_type": "code",
      "source": [
        "# input the numbers and prints the sum of numbers\n",
        "# by default : input gets the values in str form explicitly cnvt to int type\n",
        "n1 = int(input('Enter your 1st no :'))\n",
        "n2 = int(input('Enter your 2nd no :'))\n",
        "print(type(n1),type(n2))\n",
        "res = n1 + n2\n",
        "print(res)"
      ],
      "metadata": {
        "colab": {
          "base_uri": "https://localhost:8080/"
        },
        "id": "FRXWhwnkW1bz",
        "outputId": "870dee10-5786-4e0b-aacd-3d8ceb594ea8"
      },
      "execution_count": null,
      "outputs": [
        {
          "output_type": "stream",
          "name": "stdout",
          "text": [
            "Enter your 1st no :34\n",
            "Enter your 2nd no :76\n",
            "<class 'int'> <class 'int'>\n",
            "110\n"
          ]
        }
      ]
    },
    {
      "cell_type": "code",
      "source": [
        "#  approach 2 :\n",
        "n1 = input('Enter your 1st no :')\n",
        "n2 = input('Enter your 2nd no :')\n",
        "print(type(n1),type(n2))\n",
        "res = int(n1) + int(n2)\n",
        "print(res)"
      ],
      "metadata": {
        "colab": {
          "base_uri": "https://localhost:8080/"
        },
        "id": "n6W1ElgkZ_Yc",
        "outputId": "0a725888-bce7-45f6-ed46-0ee754ea9f76"
      },
      "execution_count": null,
      "outputs": [
        {
          "output_type": "stream",
          "name": "stdout",
          "text": [
            "Enter your 1st no :54\n",
            "Enter your 2nd no :6\n",
            "<class 'str'> <class 'str'>\n",
            "60\n"
          ]
        }
      ]
    },
    {
      "cell_type": "code",
      "source": [
        "# IMPLICIT VS EXPLICIT TYPE CONVERSION\n",
        "# IMPLICIT TYPE CONVERSION : done auto by py interpretor\n",
        "print(4+5.6)\n",
        "print(type(4),type(5.6))\n",
        "\n",
        "# print(4+'4') # error"
      ],
      "metadata": {
        "colab": {
          "base_uri": "https://localhost:8080/"
        },
        "id": "G2_QK4-UX-tX",
        "outputId": "7f1bb272-49af-43a6-c9d8-8bb7ccfe8397"
      },
      "execution_count": null,
      "outputs": [
        {
          "output_type": "stream",
          "name": "stdout",
          "text": [
            "9.6\n",
            "<class 'int'> <class 'float'>\n"
          ]
        }
      ]
    },
    {
      "cell_type": "code",
      "source": [
        "# Explicit Type Conversion\n",
        "# str -> int\n",
        "print(int('4')+4)\n",
        "# int -> str\n",
        "print(str(4)+'4')\n",
        "# float -> int\n",
        "print(int(4.5))\n",
        "# int -> float\n",
        "print(float(4))\n",
        "# str -> bool\n",
        "print(bool('True'))\n",
        "# int -> complex\n",
        "print(complex(4))\n",
        "# comples -> int : Error int() method not work for complex var\n",
        "# print(int(4+5j))"
      ],
      "metadata": {
        "colab": {
          "base_uri": "https://localhost:8080/"
        },
        "id": "rYTyeTqgYkt3",
        "outputId": "2c64a897-2501-435d-e098-7fc6c35adc79"
      },
      "execution_count": null,
      "outputs": [
        {
          "output_type": "stream",
          "name": "stdout",
          "text": [
            "8\n",
            "44\n",
            "4\n",
            "4.0\n",
            "True\n",
            "(4+0j)\n"
          ]
        }
      ]
    },
    {
      "cell_type": "markdown",
      "source": [
        "## Literals"
      ],
      "metadata": {
        "id": "nUkSgt1_bJKb"
      }
    },
    {
      "cell_type": "code",
      "source": [
        "# Literals : raw values which is stored in variable ex 3,\"ram\"\n",
        "\n",
        "# INTEGER DT LITERALS :\n",
        "a = 0b101010 # binary(0b show val in binary) literals\n",
        "b = 100 # decimal literals\n",
        "c = 0o310 # octal literals(0o show octal repsentation)\n",
        "d = 0x12c # hexadecimal literals (ox for hex)\n",
        "print(a,b,c,d)\n",
        "\n",
        "# FLOAT LITERALS :\n",
        "float_1 = 10.5\n",
        "float_2 = 1.5e2 # 1.5 * 10^2\n",
        "float_3 = 1.6e-5 # 1.6 * 10^-3\n",
        "print(float_1,float_2,float_3)\n",
        "\n",
        "# COMPLEX LITERALS :\n",
        "x = 3.14j\n",
        "y = 3+64j\n",
        "print(x,x.imag,x.real)\n",
        "print(y,y.imag,y.real)\n",
        "\n",
        "# STRING LITERALS\n",
        "str1 = 'this is string 1'\n",
        "str2 = \"this is string 2\"\n",
        "# for multiline string\n",
        "str3 = '''this is string 3'''\n",
        "str4 = \"\"\"this is string 4\"\"\"\n",
        "print(str1,str2,str3,str4)\n",
        "# unicode str : represents the emoji's\n",
        "unicode = u\"\\U0001f600\\U0001F606\\U0001F923\"\n",
        "print(unicode)\n",
        "# raw str : print \\n \\t\n",
        "raw_str = r\"raw \\n string\"\n",
        "print(raw_str)"
      ],
      "metadata": {
        "colab": {
          "base_uri": "https://localhost:8080/"
        },
        "id": "O0u0KjwObMlN",
        "outputId": "c76cd874-7546-41ae-fd01-5995ee8e306c"
      },
      "execution_count": null,
      "outputs": [
        {
          "output_type": "stream",
          "name": "stdout",
          "text": [
            "42 100 200 300\n",
            "10.5 150.0 1.6e-05\n",
            "3.14j 3.14 0.0\n",
            "(3+64j) 64.0 3.0\n",
            "this is string 1 this is string 2 this is string 3 this is string 4\n",
            "😀😆🤣\n",
            "raw \\n string\n"
          ]
        }
      ]
    },
    {
      "cell_type": "code",
      "source": [
        "# Boolean literals (True -> 1 / False -> 0)\n",
        "a= True + 4\n",
        "b = False + 10\n",
        "print(a,b)"
      ],
      "metadata": {
        "colab": {
          "base_uri": "https://localhost:8080/"
        },
        "id": "jFvBbakTeNdE",
        "outputId": "a429b79b-890a-418b-db77-1e61a531e7f6"
      },
      "execution_count": null,
      "outputs": [
        {
          "output_type": "stream",
          "name": "stdout",
          "text": [
            "5 10\n"
          ]
        }
      ]
    },
    {
      "cell_type": "code",
      "source": [
        "# None literal : use initialasation / or absence of values\n",
        "num = None\n",
        "print(num)"
      ],
      "metadata": {
        "colab": {
          "base_uri": "https://localhost:8080/"
        },
        "id": "IJrusNEEelkY",
        "outputId": "2b977a99-c976-46df-e812-73281d87ea76"
      },
      "execution_count": null,
      "outputs": [
        {
          "output_type": "stream",
          "name": "stdout",
          "text": [
            "None\n"
          ]
        }
      ]
    },
    {
      "cell_type": "markdown",
      "source": [
        "## DOUBTS :\n",
        "1. typecasting(permanent change) vs type conversion\n",
        "2. unicode can store image\n",
        "3."
      ],
      "metadata": {
        "id": "ETqxFBzBfGnN"
      }
    }
  ]
}