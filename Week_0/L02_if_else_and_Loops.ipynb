{
  "nbformat": 4,
  "nbformat_minor": 0,
  "metadata": {
    "colab": {
      "provenance": [],
      "authorship_tag": "ABX9TyPWxniyJ4CPRdBG5YK4YBXF",
      "include_colab_link": true
    },
    "kernelspec": {
      "name": "python3",
      "display_name": "Python 3"
    },
    "language_info": {
      "name": "python"
    }
  },
  "cells": [
    {
      "cell_type": "markdown",
      "metadata": {
        "id": "view-in-github",
        "colab_type": "text"
      },
      "source": [
        "<a href=\"https://colab.research.google.com/github/Abskrdev20/Python-DataSci_CodeDump/blob/main/Week_0/L02_if_else_and_Loops.ipynb\" target=\"_parent\"><img src=\"https://colab.research.google.com/assets/colab-badge.svg\" alt=\"Open In Colab\"/></a>"
      ]
    },
    {
      "cell_type": "markdown",
      "source": [
        "## OPERTORS IN PYTHON :"
      ],
      "metadata": {
        "id": "3E95l9uc2gvf"
      }
    },
    {
      "cell_type": "markdown",
      "source": [
        "- ARITHEMETIC OPERATORS :-"
      ],
      "metadata": {
        "id": "RAR6kCvC2nde"
      }
    },
    {
      "cell_type": "code",
      "source": [
        "# Arithematic operators\n",
        "a = int(input('enter a :'))\n",
        "b = int(input('enter b :'))\n",
        "print(a+b) # addition\n",
        "print(a-b) # subtract\n",
        "print(a*b) # multiply\n",
        "print(a/b) # division\n",
        "print(a//b) # integer division\n",
        "print(a**b) # power of operator\n",
        "print(a%b) # remainder"
      ],
      "metadata": {
        "colab": {
          "base_uri": "https://localhost:8080/"
        },
        "id": "8JOisWrL2yBW",
        "outputId": "c2587a13-dbd9-4f67-9dcc-e1ffd325b6ae"
      },
      "execution_count": null,
      "outputs": [
        {
          "output_type": "stream",
          "name": "stdout",
          "text": [
            "enter a :23\n",
            "enter b :20\n",
            "43\n",
            "3\n",
            "460\n",
            "1.15\n",
            "1\n",
            "1716155831334586342923895201\n",
            "3\n"
          ]
        }
      ]
    },
    {
      "cell_type": "markdown",
      "source": [
        "- RELATIONAL OPERATORS"
      ],
      "metadata": {
        "id": "jdr-e3Hx4CKO"
      }
    },
    {
      "cell_type": "code",
      "source": [
        "# relational operators : returns the boolean value\n",
        "a = int(input('enter a :'))\n",
        "b = int(input('enter b :'))\n",
        "print(a>b)\n",
        "print(a<b)\n",
        "print(a<=b)\n",
        "print(a>=b)\n",
        "print(a=5=b)\n",
        "print(a!=b)"
      ],
      "metadata": {
        "colab": {
          "base_uri": "https://localhost:8080/"
        },
        "id": "XxhdUwYo4MrB",
        "outputId": "10f887e9-c4b9-4020-9621-b769897dd280"
      },
      "execution_count": null,
      "outputs": [
        {
          "output_type": "stream",
          "name": "stdout",
          "text": [
            "enter a :23\n",
            "enter b :3\n",
            "True\n",
            "False\n",
            "False\n",
            "True\n",
            "False\n",
            "True\n"
          ]
        }
      ]
    },
    {
      "cell_type": "markdown",
      "source": [
        "- LOGICAL OPERATORS"
      ],
      "metadata": {
        "id": "1M5DIohF4g_-"
      }
    },
    {
      "cell_type": "code",
      "source": [
        "print(1 and 0)\n",
        "print(0 or 1)\n",
        "print(not 1)"
      ],
      "metadata": {
        "colab": {
          "base_uri": "https://localhost:8080/"
        },
        "id": "btKpVBbK4sgt",
        "outputId": "1040e5eb-5e5a-4659-a77f-04c5f2d2a790"
      },
      "execution_count": null,
      "outputs": [
        {
          "output_type": "stream",
          "name": "stdout",
          "text": [
            "0\n",
            "1\n",
            "False\n"
          ]
        }
      ]
    },
    {
      "cell_type": "markdown",
      "source": [
        "- BITWISE OPERATORS"
      ],
      "metadata": {
        "id": "NjgV0bMK47CF"
      }
    },
    {
      "cell_type": "code",
      "source": [
        "# special operators works on binary representation\n",
        "print(2 & 4) # and\n",
        "print(3 | 5) # or\n",
        "print(2 ^ 4) #xor\n",
        "# funda (same : 0 ,diff : 1 )\n",
        "print(~3) # not : negative of nos in bit pattern\n",
        "print(4>>2) # left shift\n",
        "print(4<<2) # right shift"
      ],
      "metadata": {
        "colab": {
          "base_uri": "https://localhost:8080/"
        },
        "id": "nQRNqbg44-YN",
        "outputId": "7578987d-1959-46fa-866a-7cccda107783"
      },
      "execution_count": null,
      "outputs": [
        {
          "output_type": "stream",
          "name": "stdout",
          "text": [
            "0\n",
            "7\n",
            "6\n",
            "-4\n",
            "1\n",
            "16\n"
          ]
        }
      ]
    },
    {
      "cell_type": "markdown",
      "source": [
        "- ASSIGNMENT OPERATORS"
      ],
      "metadata": {
        "id": "X79Lze5E6tG-"
      }
    },
    {
      "cell_type": "code",
      "source": [
        "# assignment operators\n",
        "a = 2\n",
        "print(a)\n",
        "a += 2\n",
        "print(a)\n",
        "a -= 2\n",
        "print(a)\n",
        "a *= 2\n",
        "print(a)\n",
        "a %= 2\n",
        "print(a)\n",
        "# a++ / ++a and a-- not allowed in python"
      ],
      "metadata": {
        "colab": {
          "base_uri": "https://localhost:8080/"
        },
        "id": "BO99vcvU6wFc",
        "outputId": "d3edd12b-68ee-496d-c9cb-92cc25ceb2c1"
      },
      "execution_count": null,
      "outputs": [
        {
          "output_type": "stream",
          "name": "stdout",
          "text": [
            "2\n",
            "4\n",
            "2\n",
            "4\n",
            "0\n"
          ]
        }
      ]
    },
    {
      "cell_type": "markdown",
      "source": [
        "- MEMBERSHIP OPERATOR"
      ],
      "metadata": {
        "id": "F6Noy-q-7WqA"
      }
    },
    {
      "cell_type": "code",
      "source": [
        "# membership operators\n",
        "# in / not in\n",
        "print('g' in 'gurugram')\n",
        "print('d' not in 'dehradun')\n",
        "print(1 in [1,2,3])"
      ],
      "metadata": {
        "colab": {
          "base_uri": "https://localhost:8080/"
        },
        "id": "gBuU520A7a2F",
        "outputId": "69041f9e-04a4-40e4-de20-f4f79f9f211b"
      },
      "execution_count": null,
      "outputs": [
        {
          "output_type": "stream",
          "name": "stdout",
          "text": [
            "True\n",
            "False\n",
            "True\n"
          ]
        }
      ]
    },
    {
      "cell_type": "markdown",
      "source": [
        "## IF-ELSE IN PYTHON :"
      ],
      "metadata": {
        "id": "r9CQed1z8HIL"
      }
    },
    {
      "cell_type": "code",
      "source": [
        "# simple login program\n",
        "# email -> \"ak@gmail.com\"\n",
        "# password -> 1234\n",
        "email = input(\"Enter e-mail :\")\n",
        "passwd = input(\"Enter password :\")\n",
        "if email == \"ak@gmail.com\" and passwd == \"1234\" :\n",
        "  print(\"WELCOME TO THE PROFILE\")\n",
        "else :\n",
        "  print(\"Invalid Creditionals , Please re-enter the creditionals\")"
      ],
      "metadata": {
        "id": "3ORZuiQb8hwz",
        "colab": {
          "base_uri": "https://localhost:8080/"
        },
        "outputId": "0b5045cb-edb5-4854-f563-efe4fd537d9c"
      },
      "execution_count": null,
      "outputs": [
        {
          "output_type": "stream",
          "name": "stdout",
          "text": [
            "Enter e-mail :ak@gmail.com\n",
            "Enter password :1234\n",
            "WELCOME TO THE PROFILE\n"
          ]
        }
      ]
    },
    {
      "cell_type": "code",
      "source": [
        "# if elseif else\n",
        "# email -> \"ak@gmail.com\"\n",
        "# password -> 1234\n",
        "email = input(\"Enter e-mail :\")\n",
        "passwd = input(\"Enter password :\")\n",
        "if email == \"ak@gmail.com\" and passwd == \"1234\" :\n",
        "  print(\"WELCOME TO THE PROFILE\")\n",
        "elif email == \"ak@gmail.com\" and passwd != \"1234\" :\n",
        "  print(\"Please re-enter the password again\")\n",
        "  passwd = input(\"enter password again\")\n",
        "  # nested if else\n",
        "  if passwd ==  \"1234\":\n",
        "    print(\"welcome , finally\")\n",
        "  else : print(\"Invalid password\")\n",
        "else :\n",
        "  print(\"Invalid Creditionals\")"
      ],
      "metadata": {
        "colab": {
          "base_uri": "https://localhost:8080/"
        },
        "id": "ok-mhAedtpFz",
        "outputId": "0514a46e-5db4-4cb1-d6e7-54f7d2b6469a"
      },
      "execution_count": null,
      "outputs": [
        {
          "output_type": "stream",
          "name": "stdout",
          "text": [
            "Enter e-mail :ak@gmail.com\n",
            "Enter password :4543\n",
            "Please re-enter the password again\n",
            "enter password again3436\n",
            "Invalid password\n"
          ]
        }
      ]
    },
    {
      "cell_type": "code",
      "source": [
        "# input 3 nos from the user and prints the minimum of the numbers out of these\n",
        "num1 = int(input(\"First no 1:\"))\n",
        "num2 = int(input(\"First no 2:\"))\n",
        "num3 = int(input(\"First no 3:\"))\n",
        "if (num1 < num2 and num1 < num3) :\n",
        "  print(\"Smallest no is\",num1)\n",
        "elif (num2<num3) :\n",
        "  print(\"Smallest no is\",num2)\n",
        "else :\n",
        "  print(\"Smallest no is\", num3)"
      ],
      "metadata": {
        "colab": {
          "base_uri": "https://localhost:8080/"
        },
        "id": "6eKJwB9jvauV",
        "outputId": "7c9bae12-98df-4a58-ae62-6a8d33ae604d"
      },
      "execution_count": null,
      "outputs": [
        {
          "output_type": "stream",
          "name": "stdout",
          "text": [
            "First no 1:64\n",
            "First no 2:34\n",
            "First no 3:64\n",
            "Smallest no is 34\n"
          ]
        }
      ]
    },
    {
      "cell_type": "code",
      "source": [
        "# create a menu driven program -> calculator\n",
        "num1 =int(input(\"enter the 1st no :\"))\n",
        "num2 =int(input(\"enter the 2nd no :\"))\n",
        "print(\"**** Calculator *******\")\n",
        "print(\"1. Addition\")\n",
        "print(\"2. subtraction\")\n",
        "print(\"3. multiplication\")\n",
        "print(\"4. Division\")\n",
        "choice = int(input(\"Enter your choice (1/2/3/4) : \"))\n",
        "if (choice == 1) : print(\"Addition of nos is : \", num1+num2)\n",
        "elif (choice == 2) : print(\"Subtraction of nos is : \", num1-num2)\n",
        "elif (choice == 3) : print(\"Multiplition of nos is : \", num1*num2)\n",
        "else : print(\"Division of nos is : \",num1/num2)"
      ],
      "metadata": {
        "colab": {
          "base_uri": "https://localhost:8080/"
        },
        "id": "yJKI0g3pwtbb",
        "outputId": "5a6b3bf1-d2bc-425d-c9bf-86b3f2e7f384"
      },
      "execution_count": null,
      "outputs": [
        {
          "output_type": "stream",
          "name": "stdout",
          "text": [
            "enter the 1st no :23\n",
            "enter the 2nd no :53\n",
            "**** Calculator *******\n",
            "1. Addition\n",
            "2. subtraction\n",
            "3. multiplication\n",
            "4. Division\n",
            "Enter your choice (1/2/3/4) : 1\n",
            "Addition of nos is :  76\n"
          ]
        }
      ]
    },
    {
      "cell_type": "markdown",
      "source": [
        "## MODULES IN PYTHON :\n",
        " - math\n",
        " - keywords\n",
        " - datetime\n",
        " - random"
      ],
      "metadata": {
        "id": "tJR9uAHwzWE4"
      }
    },
    {
      "cell_type": "code",
      "source": [
        "# math module\n",
        "import math\n",
        "print(math.floor(4.6))\n",
        "print(math.ceil(5.43))\n",
        "print(math.sqrt(4))\n",
        "print(math.cbrt(8))\n",
        "print(math.factorial(5))"
      ],
      "metadata": {
        "colab": {
          "base_uri": "https://localhost:8080/"
        },
        "id": "44v3SK-rziSf",
        "outputId": "31e53dbf-f47b-406e-ec4f-ee9d1434f548"
      },
      "execution_count": null,
      "outputs": [
        {
          "output_type": "stream",
          "name": "stdout",
          "text": [
            "4\n",
            "6\n",
            "2.0\n",
            "2.0\n",
            "120\n"
          ]
        }
      ]
    },
    {
      "cell_type": "code",
      "source": [
        "# keyword module\n",
        "import keyword\n",
        "print(keyword.kwlist)"
      ],
      "metadata": {
        "colab": {
          "base_uri": "https://localhost:8080/"
        },
        "id": "TwqduoFx0h8d",
        "outputId": "72eaa577-9654-49d7-983e-e58a483fb5f8"
      },
      "execution_count": null,
      "outputs": [
        {
          "output_type": "stream",
          "name": "stdout",
          "text": [
            "['False', 'None', 'True', 'and', 'as', 'assert', 'async', 'await', 'break', 'class', 'continue', 'def', 'del', 'elif', 'else', 'except', 'finally', 'for', 'from', 'global', 'if', 'import', 'in', 'is', 'lambda', 'nonlocal', 'not', 'or', 'pass', 'raise', 'return', 'try', 'while', 'with', 'yield']\n"
          ]
        }
      ]
    },
    {
      "cell_type": "code",
      "source": [
        "# random module\n",
        "import random\n",
        "print(random.randint(1,100))"
      ],
      "metadata": {
        "colab": {
          "base_uri": "https://localhost:8080/"
        },
        "id": "WmMk3qvO0xR6",
        "outputId": "7588cf7e-2739-4cdd-99fc-0ae839b5d78a"
      },
      "execution_count": null,
      "outputs": [
        {
          "output_type": "stream",
          "name": "stdout",
          "text": [
            "31\n"
          ]
        }
      ]
    },
    {
      "cell_type": "code",
      "source": [
        "# date and time module\n",
        "import datetime\n",
        "print(datetime.datetime.now())"
      ],
      "metadata": {
        "colab": {
          "base_uri": "https://localhost:8080/"
        },
        "id": "wKRVDXYc1EZs",
        "outputId": "1043f9f5-c006-430e-b676-ef324caf1e4a"
      },
      "execution_count": null,
      "outputs": [
        {
          "output_type": "stream",
          "name": "stdout",
          "text": [
            "2025-07-01 11:53:14.242849\n"
          ]
        }
      ]
    },
    {
      "cell_type": "markdown",
      "source": [
        "## LOOPING IN PYTHON\n",
        " - For loop\n",
        " - while loop"
      ],
      "metadata": {
        "id": "LajanZ482QPd"
      }
    },
    {
      "cell_type": "code",
      "source": [
        "# while loop\n",
        "num = int(input(\"enter your number :\"))\n",
        "i = 1\n",
        "while(i<11) :\n",
        "  print(num * i)\n",
        "  i += 1"
      ],
      "metadata": {
        "colab": {
          "base_uri": "https://localhost:8080/"
        },
        "id": "X867d2vo2Yp9",
        "outputId": "0a690d19-731d-4ef6-868b-2642b0e05064"
      },
      "execution_count": null,
      "outputs": [
        {
          "output_type": "stream",
          "name": "stdout",
          "text": [
            "enter your number :10\n",
            "10\n",
            "20\n",
            "30\n",
            "40\n",
            "50\n",
            "60\n",
            "70\n",
            "80\n",
            "90\n"
          ]
        }
      ]
    },
    {
      "cell_type": "code",
      "source": [
        "# guessing game\n",
        "import random\n",
        "jnum = random.randint(1,100)\n",
        "i = 1\n",
        "while (i<=3) :\n",
        "  unum = int(input(\"User enter a guessed no : \"))\n",
        "  if (unum < jnum):\n",
        "    print(\"Guessed a smaller no than jackport no\")\n",
        "  elif (unum > jnum):\n",
        "    print(\"Guessed a larger no than jackport no\")\n",
        "  else :\n",
        "    print(\"You Win : Correctly , Guess the Jackport No\")\n",
        "  i += 1\n",
        "\n",
        "else : print(\"You Lose!! the game\")"
      ],
      "metadata": {
        "colab": {
          "base_uri": "https://localhost:8080/"
        },
        "id": "VQqxJUfu3h0W",
        "outputId": "4e29de5b-8d0b-4067-9233-654b42127e96"
      },
      "execution_count": null,
      "outputs": [
        {
          "output_type": "stream",
          "name": "stdout",
          "text": [
            "User enter a guessed no : 23\n",
            "Guessed a larger no than jackport no\n",
            "User enter a guessed no : 10\n",
            "Guessed a larger no than jackport no\n",
            "User enter a guessed no : 5\n",
            "Guessed a larger no than jackport no\n",
            "You Lose!! the game\n"
          ]
        }
      ]
    },
    {
      "cell_type": "code",
      "source": [
        "# for loop : can iterate not only the nos but other datatypes too\n",
        "# print the numbers from 1 to 11 // 11 is excluded\n",
        "# syntax : range (start incl , end excl , step size to jump)\n",
        "for i in range(1,11,2) :\n",
        "  print(i)"
      ],
      "metadata": {
        "colab": {
          "base_uri": "https://localhost:8080/"
        },
        "id": "Go10hipT5Tt3",
        "outputId": "38fcb636-c520-4cdc-e314-aaa780f123f3"
      },
      "execution_count": null,
      "outputs": [
        {
          "output_type": "stream",
          "name": "stdout",
          "text": [
            "1\n",
            "3\n",
            "5\n",
            "7\n",
            "9\n"
          ]
        }
      ]
    },
    {
      "cell_type": "code",
      "source": [
        "# ulte nos\n",
        "for i in range(10,0,-1):\n",
        "  print(i)"
      ],
      "metadata": {
        "colab": {
          "base_uri": "https://localhost:8080/"
        },
        "id": "Hwv62e0E6H-7",
        "outputId": "ad242141-bd8e-49b2-8ddf-0f692cf21483"
      },
      "execution_count": null,
      "outputs": [
        {
          "output_type": "stream",
          "name": "stdout",
          "text": [
            "10\n",
            "9\n",
            "8\n",
            "7\n",
            "6\n",
            "5\n",
            "4\n",
            "3\n",
            "2\n",
            "1\n"
          ]
        }
      ]
    },
    {
      "cell_type": "code",
      "source": [
        "for i in \"delhi\" :\n",
        "  print(i)\n",
        "print(\"---------\")\n",
        "for i in [1,3,5] :\n",
        "  print(i)"
      ],
      "metadata": {
        "colab": {
          "base_uri": "https://localhost:8080/"
        },
        "id": "BAla-j7163gV",
        "outputId": "79bc31da-ee08-44cd-8144-e3d88203f8ab"
      },
      "execution_count": null,
      "outputs": [
        {
          "output_type": "stream",
          "name": "stdout",
          "text": [
            "d\n",
            "e\n",
            "l\n",
            "h\n",
            "i\n",
            "---------\n",
            "1\n",
            "3\n",
            "5\n"
          ]
        }
      ]
    },
    {
      "cell_type": "code",
      "source": [
        "# progaram for current pop is 10,000 rate : 10% print population in last 10 years\n",
        "curr_pop = 10000\n",
        "for i in range(10,0,-1):\n",
        "  print(i,curr_pop)\n",
        "  curr_pop = curr_pop/1.1"
      ],
      "metadata": {
        "colab": {
          "base_uri": "https://localhost:8080/"
        },
        "id": "onPTV-rl7KQq",
        "outputId": "23ea00b2-151c-48ab-c7ec-37ffe9ab5ae8"
      },
      "execution_count": 4,
      "outputs": [
        {
          "output_type": "stream",
          "name": "stdout",
          "text": [
            "10 10000\n",
            "9 9090.90909090909\n",
            "8 8264.462809917353\n",
            "7 7513.148009015775\n",
            "6 6830.134553650703\n",
            "5 6209.213230591548\n",
            "4 5644.739300537771\n",
            "3 5131.5811823070635\n",
            "2 4665.07380209733\n",
            "1 4240.976183724845\n"
          ]
        }
      ]
    },
    {
      "cell_type": "markdown",
      "source": [
        "Sequence sum\n",
        "- ex : 1/1! + 1/2! + 3/3!"
      ],
      "metadata": {
        "id": "PK5XQGTvAz-Y"
      }
    },
    {
      "cell_type": "code",
      "source": [
        "n = int(input(\"Enter the no of terms :\"))\n",
        "res = 0\n",
        "fact = 1\n",
        "for i in range(1,n+1) :\n",
        "  fact = fact*i\n",
        "  res = res + i/fact\n",
        "print(\"Result is :\",res)"
      ],
      "metadata": {
        "id": "ZpIVUBbYBBum",
        "outputId": "39c3e2d7-dc5a-4a33-d789-5e09e363b4cf",
        "colab": {
          "base_uri": "https://localhost:8080/"
        }
      },
      "execution_count": 7,
      "outputs": [
        {
          "output_type": "stream",
          "name": "stdout",
          "text": [
            "Enter the no of terms :4\n",
            "Result is : 2.6666666666666665\n"
          ]
        }
      ]
    },
    {
      "cell_type": "markdown",
      "source": [
        "## Nested Loops in Python 🐍"
      ],
      "metadata": {
        "id": "mezaMMuc-dOY"
      }
    },
    {
      "cell_type": "code",
      "source": [
        "for i in range(1,5):\n",
        "  for j in range(1,i+1):\n",
        "    print(\"*\",end=\"\")\n",
        "  print()"
      ],
      "metadata": {
        "id": "ZuF7qjLH-qmw",
        "outputId": "b71cd416-2649-43b5-a247-fb4a8019c777",
        "colab": {
          "base_uri": "https://localhost:8080/"
        }
      },
      "execution_count": 16,
      "outputs": [
        {
          "output_type": "stream",
          "name": "stdout",
          "text": [
            "*\n",
            "**\n",
            "***\n",
            "****\n"
          ]
        }
      ]
    },
    {
      "cell_type": "code",
      "source": [
        "for i in range (1,5):\n",
        "  for j in range (1,i+1):\n",
        "    print(j,end=\" \")\n",
        "  print()"
      ],
      "metadata": {
        "id": "Fuq5hcMODv7b",
        "outputId": "c627f2bf-9d2b-4117-9650-e1913898776f",
        "colab": {
          "base_uri": "https://localhost:8080/"
        }
      },
      "execution_count": 17,
      "outputs": [
        {
          "output_type": "stream",
          "name": "stdout",
          "text": [
            "1 \n",
            "1 2 \n",
            "1 2 3 \n",
            "1 2 3 4 \n"
          ]
        }
      ]
    },
    {
      "cell_type": "markdown",
      "source": [
        "## JUMP STATEMENTS / loop control statements\n",
        "- continue\n",
        "- break\n",
        "- pass"
      ],
      "metadata": {
        "id": "P4MNrfgL8HVk"
      }
    },
    {
      "cell_type": "code",
      "source": [
        "# Break : exits the loop directly\n",
        "for i in range(1,10):\n",
        "  if (i == 5):\n",
        "    print(\"we got lucky no\")\n",
        "    break\n",
        "  print(i)"
      ],
      "metadata": {
        "id": "vS9I-CzlEUZ-",
        "outputId": "51b404d3-5d26-4ca9-a1e4-4b4b9b645423",
        "colab": {
          "base_uri": "https://localhost:8080/"
        }
      },
      "execution_count": 18,
      "outputs": [
        {
          "output_type": "stream",
          "name": "stdout",
          "text": [
            "1\n",
            "2\n",
            "3\n",
            "4\n",
            "we got lucky no\n"
          ]
        }
      ]
    },
    {
      "cell_type": "code",
      "source": [
        "# Prog for the printing the prime nos from range of nos given\n",
        "low_r = int(input(\"Enter the lower range :\"))\n",
        "upper_r = int(input(\"Enter the upper range :\"))\n",
        "for i in range (low_r,upper_r+1):\n",
        "  for j in range(2,i):\n",
        "    if (i%j == 0): break\n",
        "  else : print(i)"
      ],
      "metadata": {
        "id": "JkmVw1CLE_kl",
        "outputId": "b1c073c6-8c1e-4fbd-ac8f-89fc65e88de9",
        "colab": {
          "base_uri": "https://localhost:8080/"
        }
      },
      "execution_count": 22,
      "outputs": [
        {
          "output_type": "stream",
          "name": "stdout",
          "text": [
            "Enter the lower range :23\n",
            "Enter the upper range :64\n",
            "23\n",
            "29\n",
            "31\n",
            "37\n",
            "41\n",
            "43\n",
            "47\n",
            "53\n",
            "59\n",
            "61\n"
          ]
        }
      ]
    },
    {
      "cell_type": "code",
      "source": [
        "# Continue : skip current execution and move on to the next iteration cycle\n",
        "for i in range(1,11):\n",
        "  if (i==8):\n",
        "    # print(\"Skips the 8 no\")\n",
        "    continue\n",
        "  print(i)"
      ],
      "metadata": {
        "id": "Bbh0LagcEzPP",
        "outputId": "a2629f96-2674-444b-d74e-c8b77afeb1ae",
        "colab": {
          "base_uri": "https://localhost:8080/"
        }
      },
      "execution_count": 24,
      "outputs": [
        {
          "output_type": "stream",
          "name": "stdout",
          "text": [
            "1\n",
            "2\n",
            "3\n",
            "4\n",
            "5\n",
            "6\n",
            "7\n",
            "9\n",
            "10\n"
          ]
        }
      ]
    },
    {
      "cell_type": "code",
      "source": [
        " # Real appln : FILTER OUT OF STOCK GOODS\n",
        " # not show the out of stock products from the list of given products available"
      ],
      "metadata": {
        "id": "WVwunBtTHeW8"
      },
      "execution_count": null,
      "outputs": []
    },
    {
      "cell_type": "code",
      "source": [
        "# pass : mechanism to save from the error (show absence of statments)\n",
        "for i in range(1,6):\n",
        "  print(i)\n",
        "  if (i==3):\n",
        "    pass #do nothing just pass"
      ],
      "metadata": {
        "id": "sWlCKqYpIIlS",
        "outputId": "89ad9aa5-2c14-4473-9f12-b4bbff9d0690",
        "colab": {
          "base_uri": "https://localhost:8080/"
        }
      },
      "execution_count": 26,
      "outputs": [
        {
          "output_type": "stream",
          "name": "stdout",
          "text": [
            "1\n",
            "2\n",
            "3\n",
            "hacker mode\n",
            "4\n",
            "5\n"
          ]
        }
      ]
    }
  ]
}