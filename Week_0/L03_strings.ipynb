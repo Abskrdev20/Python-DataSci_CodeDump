{
  "nbformat": 4,
  "nbformat_minor": 0,
  "metadata": {
    "colab": {
      "provenance": [],
      "authorship_tag": "ABX9TyOcwMASWCOvdKd2ZGARY1L1",
      "include_colab_link": true
    },
    "kernelspec": {
      "name": "python3",
      "display_name": "Python 3"
    },
    "language_info": {
      "name": "python"
    }
  },
  "cells": [
    {
      "cell_type": "markdown",
      "metadata": {
        "id": "view-in-github",
        "colab_type": "text"
      },
      "source": [
        "<a href=\"https://colab.research.google.com/github/Abskrdev20/Python-DataSci_CodeDump/blob/main/Week_0/L03_strings.ipynb\" target=\"_parent\"><img src=\"https://colab.research.google.com/assets/colab-badge.svg\" alt=\"Open In Colab\"/></a>"
      ]
    },
    {
      "cell_type": "markdown",
      "source": [
        "# Strings in Python\n",
        "- Defn : they are basically collection of unicode characters\n",
        "- Unicode char vs ascii char\n",
        "  - ascii : 8bit(256)\n",
        "  - unicode : 16bit(2^16),emojis included"
      ],
      "metadata": {
        "id": "i7quFDg1YdIP"
      }
    },
    {
      "cell_type": "markdown",
      "source": [
        " - Topics to cover :\n",
        "  - create\n",
        "  - access\n",
        "  - add char\n",
        "  - edit string\n",
        "  - deleting string\n",
        "  - editing string\n",
        "  - deleting string\n",
        "  - operation\n",
        "  - string functions"
      ],
      "metadata": {
        "id": "KUK01iIzZeVZ"
      }
    },
    {
      "cell_type": "code",
      "source": [
        "# string creation\n",
        "str1 = 'hello'\n",
        "str2 = \"python-learners\"\n",
        "# single double to remove the confusion in situation as\n",
        "# s1 = 'it's raining today'\n",
        "# s2 = \"mohit said :\"this is my book\" \"\n",
        "\n",
        "str3 = '''welcome to data science journey'''\n",
        "str4 =\"\"\" this is also valid\"\"\"\n",
        "# for multiline strings like blogs and articles\n",
        "\n",
        "print(str1,str2,str3,str4)\n",
        "# raw strings : advance"
      ],
      "metadata": {
        "colab": {
          "base_uri": "https://localhost:8080/"
        },
        "id": "xbBLcNnZZ3P4",
        "outputId": "9823a5af-45e8-47b4-ceb7-54771a4d6596"
      },
      "execution_count": null,
      "outputs": [
        {
          "output_type": "stream",
          "name": "stdout",
          "text": [
            "hello python-learners welcome to data science journey  this is also valid\n"
          ]
        }
      ]
    },
    {
      "cell_type": "code",
      "source": [
        "# ACCESSING : Indexing in strings\n",
        "s = \"hello world\"\n",
        "# POSITIVE INDEXING\n",
        "print(s[0],s[4])\n",
        "# NEGATIVE INDEXING\n",
        "print(s[-1],s[-9])"
      ],
      "metadata": {
        "colab": {
          "base_uri": "https://localhost:8080/"
        },
        "id": "UhxOImZ7cKnx",
        "outputId": "dfbe5344-3798-488e-dab5-7eefd2376bd2"
      },
      "execution_count": null,
      "outputs": [
        {
          "output_type": "stream",
          "name": "stdout",
          "text": [
            "h o\n",
            "d l\n"
          ]
        }
      ]
    },
    {
      "cell_type": "code",
      "source": [
        "# ACCESSING SUBSTRING : Slicing concept\n",
        "s = \"welcome the new learners\"\n",
        "print(s[0:15])\n",
        "print(s[8:9])\n",
        "print(s[:7])\n",
        "print(s[0:6:2]) # with step size\n",
        "print(s[6:0:-1]) # with step size negative\n",
        "print(s[::-1]) # reverse the string\n",
        "# TIP : generally in python the 2nd value is excluded"
      ],
      "metadata": {
        "colab": {
          "base_uri": "https://localhost:8080/"
        },
        "id": "3kVqwxFxc0ih",
        "outputId": "9863b341-be4c-4132-f413-9d7c69322e93"
      },
      "execution_count": null,
      "outputs": [
        {
          "output_type": "stream",
          "name": "stdout",
          "text": [
            "welcome the new\n",
            "t\n",
            "welcome\n",
            "wlo\n",
            "emocle\n",
            "srenrael wen eht emoclew\n"
          ]
        }
      ]
    },
    {
      "cell_type": "code",
      "source": [
        "# accessing substring using negative indexing\n",
        "print(s[-5:])\n",
        "print(s[-1:-9:-1])\n",
        "# note : in negative indexing the first nos should be greater than 2nd one"
      ],
      "metadata": {
        "colab": {
          "base_uri": "https://localhost:8080/"
        },
        "id": "MQy9Oc4zfR6m",
        "outputId": "0e2428fd-719e-41ac-dd43-067ba26e48f3"
      },
      "execution_count": null,
      "outputs": [
        {
          "output_type": "stream",
          "name": "stdout",
          "text": [
            "rners\n",
            "srenrael\n"
          ]
        }
      ]
    },
    {
      "cell_type": "code",
      "source": [
        "# EDITING AND DELETION IN STRINGS\n",
        "# EDITING : NHI HOTA H\n",
        "str2 = 'data structures'\n",
        "#s[0] = 'D'\n",
        "# python string are immutable(mutate change => virus change)\n",
        "print(str2)\n",
        "\n",
        "# DELETION : PURA HOTA H NOT PARTIALLY\n",
        "del str2\n",
        "# print(str2)\n",
        "# dont work as the string is deleted by the delete operator"
      ],
      "metadata": {
        "colab": {
          "base_uri": "https://localhost:8080/"
        },
        "id": "-IxnBpxAf9xy",
        "outputId": "da7762e0-b968-4c70-af83-6f8446d3e283"
      },
      "execution_count": null,
      "outputs": [
        {
          "output_type": "stream",
          "name": "stdout",
          "text": [
            "data structures\n"
          ]
        }
      ]
    },
    {
      "cell_type": "markdown",
      "source": [
        "# OPERATIONS ON STRINGS\n",
        "1. arithmetic\n",
        "2. relational\n",
        "3. logical\n",
        "4. loops\n",
        "5. membership"
      ],
      "metadata": {
        "id": "tolYhv1Qh1iD"
      }
    },
    {
      "cell_type": "code",
      "source": [
        "# arithmetic\n",
        "# addition : concatination\n",
        "print(\"delhi\"+\" \"+\"coders\")\n",
        "# multiplication : replication\n",
        "print(\"hello!!\"*10)"
      ],
      "metadata": {
        "colab": {
          "base_uri": "https://localhost:8080/"
        },
        "id": "wWjQwsFHhwM1",
        "outputId": "30702848-cf9f-425d-d9b0-d63dd67e6104"
      },
      "execution_count": null,
      "outputs": [
        {
          "output_type": "stream",
          "name": "stdout",
          "text": [
            "delhi coders\n",
            "hello!!hello!!hello!!hello!!hello!!hello!!hello!!hello!!hello!!hello!!\n"
          ]
        }
      ]
    },
    {
      "cell_type": "code",
      "source": [
        "# relational : all works checks the string acc to the ascii values chart\n",
        "# (lexiographically comparision)\n",
        "print(\"delhi\" == \"mumbai\")\n",
        "print(\"delhi\" <= \"mumbai\")\n",
        "print(\"delhi\" >= \"mumbai\")\n",
        "print(\"delhi\" != \"mumbai\")\n",
        "print(\"delhi\" < \"mumbai\")"
      ],
      "metadata": {
        "colab": {
          "base_uri": "https://localhost:8080/"
        },
        "id": "HOE9jsplimds",
        "outputId": "6ffe9c36-2f35-40de-8510-f090c1ec3bfc"
      },
      "execution_count": null,
      "outputs": [
        {
          "output_type": "stream",
          "name": "stdout",
          "text": [
            "False\n",
            "True\n",
            "False\n",
            "True\n",
            "True\n"
          ]
        }
      ]
    },
    {
      "cell_type": "code",
      "source": [
        "# logical\n",
        "print ('hello' and 'world')\n",
        "# concept \"string\" consider as true in and \"world\" is true so ans is \"world\"\n",
        "print ('hello' or 'world')\n",
        "# see first true ie \"hello\" so prints not check the 2nd\n",
        "print(not \"hello\")"
      ],
      "metadata": {
        "colab": {
          "base_uri": "https://localhost:8080/"
        },
        "id": "qeUerh5Cjlwc",
        "outputId": "3caee3f2-9505-4c57-dfc7-fdf6cd664469"
      },
      "execution_count": null,
      "outputs": [
        {
          "output_type": "stream",
          "name": "stdout",
          "text": [
            "world\n",
            "hello\n",
            "False\n"
          ]
        }
      ]
    },
    {
      "cell_type": "code",
      "source": [
        "# LOOPING : str are iterable\n",
        "str = \"rituraj\"\n",
        "for i in str:\n",
        "  print(i)\n",
        "print(\"*\"*10)\n",
        "for i in \"delhi\":\n",
        "  print(\"pune\")"
      ],
      "metadata": {
        "colab": {
          "base_uri": "https://localhost:8080/"
        },
        "id": "TqQWYfZUk4pE",
        "outputId": "52e022b2-4154-4104-8741-1f90263bcfae"
      },
      "execution_count": null,
      "outputs": [
        {
          "output_type": "stream",
          "name": "stdout",
          "text": [
            "r\n",
            "i\n",
            "t\n",
            "u\n",
            "r\n",
            "a\n",
            "j\n",
            "**********\n",
            "pune\n",
            "pune\n",
            "pune\n",
            "pune\n",
            "pune\n"
          ]
        }
      ]
    },
    {
      "cell_type": "code",
      "source": [
        "# MEMBERSHIP OPERATORS : in / not in\n",
        "print(\"d\" in \"dehradun\")\n",
        "print(\"d\" not in \"dehradun\")\n",
        "print(\"d\" in \"Delhi\")"
      ],
      "metadata": {
        "colab": {
          "base_uri": "https://localhost:8080/"
        },
        "id": "1PtPd2HalV-0",
        "outputId": "1871185a-1b7d-46cf-9c92-7b867dedf7c7"
      },
      "execution_count": null,
      "outputs": [
        {
          "output_type": "stream",
          "name": "stdout",
          "text": [
            "True\n",
            "False\n",
            "False\n"
          ]
        }
      ]
    },
    {
      "cell_type": "markdown",
      "source": [
        "## STRING COMMON FUNCTIONS :\n",
        "-  len\n",
        "-  max\n",
        "-  min\n",
        "- *sorted*"
      ],
      "metadata": {
        "id": "FFNNCDHmlrL6"
      }
    },
    {
      "cell_type": "code",
      "source": [
        "# len : length\n",
        "len(\"hello world\")"
      ],
      "metadata": {
        "colab": {
          "base_uri": "https://localhost:8080/"
        },
        "id": "XsyG7TkymAJN",
        "outputId": "f2600631-849d-4c3a-c096-740dafbf433d"
      },
      "execution_count": null,
      "outputs": [
        {
          "output_type": "execute_result",
          "data": {
            "text/plain": [
              "11"
            ]
          },
          "metadata": {},
          "execution_count": 42
        }
      ]
    },
    {
      "cell_type": "code",
      "source": [
        "#max : maximum character based on ASCII\n",
        "max(\"hello hello\")"
      ],
      "metadata": {
        "colab": {
          "base_uri": "https://localhost:8080/",
          "height": 35
        },
        "id": "0Qg-HnQLmRyr",
        "outputId": "e607b908-efd6-42b3-a089-112d017cbf14"
      },
      "execution_count": null,
      "outputs": [
        {
          "output_type": "execute_result",
          "data": {
            "text/plain": [
              "'o'"
            ],
            "application/vnd.google.colaboratory.intrinsic+json": {
              "type": "string"
            }
          },
          "metadata": {},
          "execution_count": 43
        }
      ]
    },
    {
      "cell_type": "code",
      "source": [
        "#min : minimum character based on ASCII\n",
        "min(\"hello hello\")"
      ],
      "metadata": {
        "colab": {
          "base_uri": "https://localhost:8080/",
          "height": 35
        },
        "id": "UoOyjLpHmdop",
        "outputId": "fc29a4ed-4c35-4bf7-f014-6238ed527026"
      },
      "execution_count": null,
      "outputs": [
        {
          "output_type": "execute_result",
          "data": {
            "text/plain": [
              "' '"
            ],
            "application/vnd.google.colaboratory.intrinsic+json": {
              "type": "string"
            }
          },
          "metadata": {},
          "execution_count": 44
        }
      ]
    },
    {
      "cell_type": "code",
      "source": [
        "# sorted : sort the string retun the list asc order\n",
        "sorted(\"Hello ji\")\n",
        "sorted(\"hello ji \",reverse=True)"
      ],
      "metadata": {
        "colab": {
          "base_uri": "https://localhost:8080/"
        },
        "id": "7l6BzV9WmmMb",
        "outputId": "ef1117a8-a8fb-4349-98a6-e7d9742456b8"
      },
      "execution_count": null,
      "outputs": [
        {
          "output_type": "execute_result",
          "data": {
            "text/plain": [
              "['o', 'l', 'l', 'j', 'i', 'h', 'e', ' ', ' ']"
            ]
          },
          "metadata": {},
          "execution_count": 48
        }
      ]
    },
    {
      "cell_type": "markdown",
      "source": [
        "## String SPECIFIC functions"
      ],
      "metadata": {
        "id": "7x8qLWgBnLqJ"
      }
    },
    {
      "cell_type": "code",
      "source": [
        "# capitalise / title / upper / lower\n",
        "s=\"abhishek kumar\"\n",
        "print(s.capitalize())\n",
        "print(s.title())\n",
        "print(s.upper())\n",
        "print(s.lower())\n",
        "print(s.title())\n",
        "print(s.swapcase())"
      ],
      "metadata": {
        "colab": {
          "base_uri": "https://localhost:8080/"
        },
        "id": "dJOiRHHSnSCw",
        "outputId": "1f546ad8-0cab-4203-c45f-5ba9e754a619"
      },
      "execution_count": null,
      "outputs": [
        {
          "output_type": "stream",
          "name": "stdout",
          "text": [
            "Abhishek kumar\n",
            "Abhishek Kumar\n",
            "ABHISHEK KUMAR\n",
            "abhishek kumar\n",
            "Abhishek Kumar\n",
            "ABHISHEK KUMAR\n"
          ]
        }
      ]
    },
    {
      "cell_type": "code",
      "source": [
        "# count / find / index\n",
        "print(\"this is abhishek repo\".count(\"i\"))\n",
        "print(\"this is abhishek repo\".find(\"is\"))\n",
        "print(\"this is abhishek repo\".find(\"z\"))\n",
        "# if not available gives -1\n",
        "print(\"this is abhishek repo\".index(\"is\"))\n",
        "# print(\"this is abhishek repo\".index(\"x\"))\n",
        "# index function same as the find function but throws an error if not found"
      ],
      "metadata": {
        "colab": {
          "base_uri": "https://localhost:8080/"
        },
        "id": "zXc88xkTn9Lo",
        "outputId": "85c24ea0-8bb2-40af-c690-9af79863ca04"
      },
      "execution_count": null,
      "outputs": [
        {
          "output_type": "stream",
          "name": "stdout",
          "text": [
            "3\n",
            "2\n",
            "-1\n",
            "2\n"
          ]
        }
      ]
    },
    {
      "cell_type": "code",
      "source": [
        "# ends with / starts with : retun boolean value ends with or start with given string\n",
        "print(\"my name is rohtash\".endswith('sh'))\n",
        "print(\"my name is rohtash\".startswith('my'))\n",
        "print(\"my name is rohtash\".startswith(\"na\"))"
      ],
      "metadata": {
        "colab": {
          "base_uri": "https://localhost:8080/"
        },
        "id": "McXb3e1rr-zy",
        "outputId": "be7a4053-0bae-4ecb-df9c-0cc6a6b1c639"
      },
      "execution_count": null,
      "outputs": [
        {
          "output_type": "stream",
          "name": "stdout",
          "text": [
            "True\n",
            "True\n",
            "False\n"
          ]
        }
      ]
    },
    {
      "cell_type": "code",
      "source": [
        "# format : basically as back ticks in js `` for injecting the variable in string\n",
        "name = \"ritu rathi\"\n",
        "gender = \"female\"\n",
        "print(\"OOPS teacher is a {} having name {}\".format(gender,name))"
      ],
      "metadata": {
        "colab": {
          "base_uri": "https://localhost:8080/"
        },
        "id": "ZtkopAR7Th6T",
        "outputId": "6d452d3a-2557-49b1-d0bb-8767b3d0bd5d"
      },
      "execution_count": 1,
      "outputs": [
        {
          "output_type": "stream",
          "name": "stdout",
          "text": [
            "OOPS teacher is a female having name ritu rathi\n"
          ]
        }
      ]
    },
    {
      "cell_type": "code",
      "source": [
        "# isalpha / isnum / isalnum / isdigit / isidentifier\n",
        "print(\"c\".isalpha())\n",
        "print(\"c23\".isalnum())\n",
        "print(\"c\".isdigit())\n",
        "print(\"34\".isdigit())\n",
        "print(\"34\".isnumeric())\n",
        "print(\"01_lect\".isidentifier())\n",
        "print(\"lect_01\".isidentifier())"
      ],
      "metadata": {
        "colab": {
          "base_uri": "https://localhost:8080/"
        },
        "id": "jE1uv70qUf_0",
        "outputId": "cce32f63-63fd-43f3-d359-3a04e6f0c7a2"
      },
      "execution_count": 7,
      "outputs": [
        {
          "output_type": "stream",
          "name": "stdout",
          "text": [
            "True\n",
            "True\n",
            "False\n",
            "True\n",
            "True\n",
            "False\n",
            "True\n"
          ]
        }
      ]
    },
    {
      "cell_type": "code",
      "source": [
        "# ( VIP ) split : breaks the string into substrings of list return\n",
        "# syntax : \"str\".split(\"sep_str\")\n",
        "sentence = \"this is a new python repository\"\n",
        "print(sentence.split())\n",
        "# by default : space\n",
        "print(sentence.split('i'))\n",
        "# custom : breaks at a part custom passed string"
      ],
      "metadata": {
        "colab": {
          "base_uri": "https://localhost:8080/"
        },
        "id": "v6jc-BFXVS2X",
        "outputId": "b1669df6-9b1b-4dfa-d204-08978f93b148"
      },
      "execution_count": 9,
      "outputs": [
        {
          "output_type": "stream",
          "name": "stdout",
          "text": [
            "['this', 'is', 'a', 'new', 'python', 'repository']\n",
            "['th', 's ', 's a new python repos', 'tory']\n"
          ]
        }
      ]
    },
    {
      "cell_type": "code",
      "source": [
        "# (VIP) join : reverse of the split\n",
        "# syntax : \"sep_str\".join([pass a list of strings])\n",
        "print(' '.join(['this', 'is', 'a', 'new', 'python', 'repository']))\n",
        "print('@'.join(['this', 'is', 'a', 'new', 'python', 'repository']))"
      ],
      "metadata": {
        "colab": {
          "base_uri": "https://localhost:8080/"
        },
        "id": "g3D96VmnWjnN",
        "outputId": "428b226b-4a56-41c4-a299-0cfc5dbde194"
      },
      "execution_count": 12,
      "outputs": [
        {
          "output_type": "stream",
          "name": "stdout",
          "text": [
            "this is a new python repository\n",
            "this@is@a@new@python@repository\n"
          ]
        }
      ]
    },
    {
      "cell_type": "code",
      "source": [
        "# replace : changes the part of string to new substring in place of it\n",
        "# syntax : str.replace(old_str,new_str)\n",
        "'this is a new python repository'.replace('this is','welcome to')"
      ],
      "metadata": {
        "colab": {
          "base_uri": "https://localhost:8080/",
          "height": 35
        },
        "id": "ka0bYH8YXWWe",
        "outputId": "c45b769b-9d37-43ad-8801-2e274b4dc90f"
      },
      "execution_count": 13,
      "outputs": [
        {
          "output_type": "execute_result",
          "data": {
            "text/plain": [
              "'welcome to a new python repository'"
            ],
            "application/vnd.google.colaboratory.intrinsic+json": {
              "type": "string"
            }
          },
          "metadata": {},
          "execution_count": 13
        }
      ]
    },
    {
      "cell_type": "code",
      "source": [
        "# (SIP) strip : removes the trailing spaces\n",
        "name = 'geetansh                 '\n",
        "name.strip()"
      ],
      "metadata": {
        "colab": {
          "base_uri": "https://localhost:8080/",
          "height": 35
        },
        "id": "lioy9WLpX3kt",
        "outputId": "5f71c1ea-8fae-484b-dd71-7ffe4e09f8be"
      },
      "execution_count": 16,
      "outputs": [
        {
          "output_type": "execute_result",
          "data": {
            "text/plain": [
              "'hno 634 sector a9 block c2 rajori garden'"
            ],
            "application/vnd.google.colaboratory.intrinsic+json": {
              "type": "string"
            }
          },
          "metadata": {},
          "execution_count": 16
        }
      ]
    }
  ]
}