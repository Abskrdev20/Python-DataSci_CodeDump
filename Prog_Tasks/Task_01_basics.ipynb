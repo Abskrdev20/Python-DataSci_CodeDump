{
  "nbformat": 4,
  "nbformat_minor": 0,
  "metadata": {
    "colab": {
      "provenance": [],
      "include_colab_link": true
    },
    "kernelspec": {
      "name": "python3",
      "display_name": "Python 3"
    },
    "language_info": {
      "name": "python"
    }
  },
  "cells": [
    {
      "cell_type": "markdown",
      "metadata": {
        "id": "view-in-github",
        "colab_type": "text"
      },
      "source": [
        "<a href=\"https://colab.research.google.com/github/Abskrdev20/Python-DataSci_CodeDump/blob/main/Task_01_basics.ipynb\" target=\"_parent\"><img src=\"https://colab.research.google.com/assets/colab-badge.svg\" alt=\"Open In Colab\"/></a>"
      ]
    },
    {
      "cell_type": "markdown",
      "source": [
        "# Task : Session 1\n",
        "Solve these questions own your own and try to test yourself what you have learned in the session.\n",
        "\n",
        "Happy Learning!"
      ],
      "metadata": {
        "id": "A05OG15VqOPF"
      }
    },
    {
      "cell_type": "markdown",
      "source": [
        "### Q1 :- Print the given strings as per stated format.\n",
        "\n",
        "**Given strings**:\n",
        "```\n",
        "\"Data\" \"Science\" \"Mentorship\" \"Program\"\n",
        "\"By\" \"CampusX\"\n",
        "```\n",
        "**Output**:\n",
        "```\n",
        "Data-Science-Mentorship-Program-started-By-CampusX\n",
        "```\n",
        "\n",
        "Concept- [Seperator and End]"
      ],
      "metadata": {
        "id": "2doIXf8bqe9_"
      }
    },
    {
      "cell_type": "code",
      "source": [
        "print(\"Data\",\"Science\",\"Mentorship\",\"Program\",\"By\",\"CampusX\",sep=\"-\")"
      ],
      "metadata": {
        "id": "-em6d3KErDtp",
        "colab": {
          "base_uri": "https://localhost:8080/"
        },
        "outputId": "41e2e007-878f-42b3-fdb9-c12159824ba8"
      },
      "execution_count": 2,
      "outputs": [
        {
          "output_type": "stream",
          "name": "stdout",
          "text": [
            "Data-Science-Mentorship-Program-By-CampusX\n"
          ]
        }
      ]
    },
    {
      "cell_type": "markdown",
      "source": [
        "### Q2:- Write a program that will convert celsius value to fahrenheit."
      ],
      "metadata": {
        "id": "1KUpN7ZTrC3_"
      }
    },
    {
      "cell_type": "code",
      "source": [
        "cel = int(input(\"Enter Celsius Value :\"))\n",
        "frah = cel*(9/5) + 32\n",
        "print(\"Frahenheit value is : \",frah)"
      ],
      "metadata": {
        "id": "yxKYhYQiqWfj",
        "colab": {
          "base_uri": "https://localhost:8080/"
        },
        "outputId": "cbf177f9-28a7-4e19-e8d3-cdbe7b66bb55"
      },
      "execution_count": 4,
      "outputs": [
        {
          "output_type": "stream",
          "name": "stdout",
          "text": [
            "Enter Celsius Value :32\n",
            "Frahenheit value is :  89.6\n"
          ]
        }
      ]
    },
    {
      "cell_type": "markdown",
      "source": [
        "### Q3:- Take 2 numbers as input from the user.Write a program to swap the numbers without using any special python syntax."
      ],
      "metadata": {
        "id": "RLrOBBJurLB2"
      }
    },
    {
      "cell_type": "code",
      "source": [
        "n1 = int(input(\"enter no1 :\"))\n",
        "n2 = int(input(\"enter no2 :\"))\n",
        "print(\"Before swapping :\",n1,n2)\n",
        "temp = n1\n",
        "n1 = n2\n",
        "n2 = temp\n",
        "print(\"After swapping :\",n1,n2)"
      ],
      "metadata": {
        "id": "yPn7if0TrJ4F",
        "colab": {
          "base_uri": "https://localhost:8080/"
        },
        "outputId": "13aa80ed-4d58-4219-815b-edab3c3e71a7"
      },
      "execution_count": 5,
      "outputs": [
        {
          "output_type": "stream",
          "name": "stdout",
          "text": [
            "enter no1 :5\n",
            "enter no2 :8\n",
            "Before swapping : 5 8\n",
            "After swapping : 8 5\n"
          ]
        }
      ]
    },
    {
      "cell_type": "markdown",
      "source": [
        "### Q4:- Write a program to find the euclidean distance between two coordinates.Take both the coordinates from the user as input."
      ],
      "metadata": {
        "id": "waLCP1bjr7ML"
      }
    },
    {
      "cell_type": "code",
      "source": [
        "x1 = float(input(\"Enter the x-coordinate of the first point: \"))\n",
        "y1 = float(input(\"Enter the y-coordinate of the first point: \"))\n",
        "x2 = float(input(\"Enter the x-coordinate of the second point: \"))\n",
        "y2 = float(input(\"Enter the y-coordinate of the second point: \"))\n",
        "\n",
        "distance = ( (x1-x2)**2 + (y1-y2)**2)**0.5\n",
        "print(\"Euclidean Distance between the 2 coordinates :\",distance)"
      ],
      "metadata": {
        "id": "GXUIdaV4sQAo",
        "outputId": "cc268f4b-cf08-4a42-b02b-007c5ba83626",
        "colab": {
          "base_uri": "https://localhost:8080/"
        }
      },
      "execution_count": 10,
      "outputs": [
        {
          "output_type": "stream",
          "name": "stdout",
          "text": [
            "Enter the x-coordinate of the first point: 2\n",
            "Enter the y-coordinate of the first point: 2\n",
            "Enter the x-coordinate of the second point: 4\n",
            "Enter the y-coordinate of the second point: 4\n",
            "Euclidean Distance between the 2 coordinates : 2.8284271247461903\n"
          ]
        }
      ]
    },
    {
      "cell_type": "markdown",
      "source": [
        "### Q5:- Write a program to find the simple interest when the value of principle,rate of interest and time period is provided by the user.\n"
      ],
      "metadata": {
        "id": "VLrhg-FRsHjR"
      }
    },
    {
      "cell_type": "code",
      "source": [
        "p = int(input(\"enter principle amt :\"))\n",
        "r = int(input(\"enter rate of interest :\"))\n",
        "t = int(input(\"enter time period :\"))\n",
        "si = (p*r*t)/100\n",
        "print(si)"
      ],
      "metadata": {
        "id": "s40DlReZsTmY",
        "colab": {
          "base_uri": "https://localhost:8080/"
        },
        "outputId": "fb4ed09a-ac01-4416-d2e7-74ce29ca4479"
      },
      "execution_count": 9,
      "outputs": [
        {
          "output_type": "stream",
          "name": "stdout",
          "text": [
            "enter principle amt :2345\n",
            "enter rate of interest :2\n",
            "enter time period :43\n",
            "2016.7\n"
          ]
        }
      ]
    },
    {
      "cell_type": "markdown",
      "source": [
        "### Q6:- Write a program that will tell the number of dogs and chicken are there when the user will provide the value of total heads and legs.\n",
        "\n",
        "For example:\n",
        "Input:\n",
        "heads -> 4\n",
        "legs -> 12\n",
        "<br>\n",
        "Output:\n",
        "dogs -> 2\n",
        "chicken -> 2\n",
        "\n",
        "\n",
        "\n"
      ],
      "metadata": {
        "id": "LMy0BTUktYKa"
      }
    },
    {
      "cell_type": "code",
      "source": [
        "# Linear Algebra eqns in 2 variables\n",
        "head = int(input(\"enter the no of heads :\"))\n",
        "legs = int(input(\"enter the no of legs :\"))\n",
        "\n",
        "noOfCats = (4*head - legs)/2\n",
        "noOfDogs = head - noOfCats\n",
        "print(\"No of cats :\",noOfCats,\"\\nNo of Dogs :\",noOfDogs)"
      ],
      "metadata": {
        "id": "XSBvJoA4tXaG",
        "colab": {
          "base_uri": "https://localhost:8080/"
        },
        "outputId": "60e0f98f-c814-4f5f-9002-862693a96529"
      },
      "execution_count": 13,
      "outputs": [
        {
          "output_type": "stream",
          "name": "stdout",
          "text": [
            "enter the no of heads :4\n",
            "enter the no of legs :4\n",
            "No of cats : 6.0 \n",
            "No of Dogs : -2.0\n"
          ]
        }
      ]
    },
    {
      "cell_type": "markdown",
      "source": [
        "### Q7:- Write a program to find the sum of squares of first n natural numbers where n will be provided by the user."
      ],
      "metadata": {
        "id": "gJ7C5kZYt4BP"
      }
    },
    {
      "cell_type": "markdown",
      "source": [
        "HINT : sum of squares of first n natural nos = n(n+1)(2n+1)/6"
      ],
      "metadata": {
        "id": "4aVoejvtvuu7"
      }
    },
    {
      "cell_type": "code",
      "source": [
        "num = int(input(\"enter a no :\"))\n",
        "sumOfSquares = (num*(num+1)*(2*num + 1))/6\n",
        "print(sumOfSquares)"
      ],
      "metadata": {
        "id": "_tHsmEHzt2nX",
        "colab": {
          "base_uri": "https://localhost:8080/"
        },
        "outputId": "0c2ef821-7294-46c9-ce48-d7b402854b41"
      },
      "execution_count": 16,
      "outputs": [
        {
          "output_type": "stream",
          "name": "stdout",
          "text": [
            "enter a no :5\n",
            "55.0\n"
          ]
        }
      ]
    },
    {
      "cell_type": "markdown",
      "source": [
        "### Q8:- Given the first 2 terms of an Arithmetic Series.Find the Nth term of the series. Assume all inputs are provided by the user."
      ],
      "metadata": {
        "id": "FHrMM7g-yG1h"
      }
    },
    {
      "cell_type": "markdown",
      "source": [
        "Hint : Formula for nth term (an) = first +(n-1)diff"
      ],
      "metadata": {
        "id": "Q8Q_ghI5v6_t"
      }
    },
    {
      "cell_type": "code",
      "source": [
        "fn1 = int(input('enter the no 1 :'))\n",
        "fn2 = int(input('enter the no 2 :'))\n",
        "n = int(input('enter the n value to find the term : '))\n",
        "nthTerm = fn1  + (n-1)*(fn2-fn1)\n",
        "print(nthTerm)\n",
        "# use var name like first_term,sec_term,an"
      ],
      "metadata": {
        "id": "go4_kmZmyVSx",
        "colab": {
          "base_uri": "https://localhost:8080/"
        },
        "outputId": "dd84da1a-e677-41df-839f-b190ed5e04ab"
      },
      "execution_count": 18,
      "outputs": [
        {
          "output_type": "stream",
          "name": "stdout",
          "text": [
            "enter the no 1 :2\n",
            "enter the no 2 :4\n",
            "enter the n value to find the term : 3\n",
            "6\n"
          ]
        }
      ]
    },
    {
      "cell_type": "markdown",
      "source": [
        "### Q9:- Given 2 fractions, find the sum of those 2 fractions.Take the numerator and denominator values of the fractions from the user."
      ],
      "metadata": {
        "id": "QgyRX_es1oum"
      }
    },
    {
      "cell_type": "code",
      "source": [
        "n1 = int(input('num1 :'))\n",
        "d1 = int(input('den1 :'))\n",
        "n2 = int(input('num2 :'))\n",
        "d2 = int(input('den2 :'))\\\n",
        "\n",
        "resn = n1*d2 + n2*d1\n",
        "resd = d1*d2\n",
        "print('{}/{}'.format(resn,resd))"
      ],
      "metadata": {
        "id": "X05xqFS1yW16",
        "colab": {
          "base_uri": "https://localhost:8080/"
        },
        "outputId": "e7eb3c62-31eb-4c09-e47c-59ad476f244f"
      },
      "execution_count": 23,
      "outputs": [
        {
          "output_type": "stream",
          "name": "stdout",
          "text": [
            "num1 :2\n",
            "den1 :3\n",
            "num2 :4\n",
            "den2 :6\n",
            "24/18\n"
          ]
        }
      ]
    },
    {
      "cell_type": "markdown",
      "source": [
        "### Q10:- Given the height, width and breadth of a milk tank, you have to find out how many glasses of milk can be obtained? Assume all the inputs are provided by the user.\n",
        "\n",
        "\n",
        "\n",
        "Input:<br>\n",
        "Dimensions of the milk tank<br>\n",
        "H = 20cm, L = 20cm, B = 20cm\n",
        "<br><br>\n",
        "Dimensions of the glass<br>\n",
        "h = 3cm, r = 1cm"
      ],
      "metadata": {
        "id": "eaql38ln13u7"
      }
    },
    {
      "cell_type": "code",
      "source": [
        "import math\n",
        "l = int(input(\"length :\"))\n",
        "b = int(input(\"breadth :\"))\n",
        "h = int(input(\"height :\"))\n",
        "VolOfTank = l*b*h\n",
        "h_g = int(input(\"glass height :\"))\n",
        "r_g = int(input('glass radius :'))\n",
        "VolofGlass = 3.14*(r**2)*gh\n",
        "noOfGlasses = VolOfTank/VolofGlass\n",
        "print(math.floor(noOfGlasses))"
      ],
      "metadata": {
        "id": "FePZqno74eWv",
        "colab": {
          "base_uri": "https://localhost:8080/"
        },
        "outputId": "76a98a4d-8ed2-4723-adb7-06f2b423bb45"
      },
      "execution_count": 27,
      "outputs": [
        {
          "output_type": "stream",
          "name": "stdout",
          "text": [
            "length :23\n",
            "breadth :4\n",
            "height :6\n",
            "glass height :2\n",
            "glass radius :5\n",
            "9\n"
          ]
        }
      ]
    }
  ]
}